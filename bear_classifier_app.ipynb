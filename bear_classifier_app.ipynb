{
  "nbformat": 4,
  "nbformat_minor": 0,
  "metadata": {
    "colab": {
      "name": "bear_classifier_app.ipynb",
      "provenance": [],
      "authorship_tag": "ABX9TyNql6/rv5LvtykbhIWNCSfA",
      "include_colab_link": true
    },
    "kernelspec": {
      "name": "python3",
      "display_name": "Python 3"
    },
    "language_info": {
      "name": "python"
    },
    "widgets": {
      "application/vnd.jupyter.widget-state+json": {
        "15f8e2d9dd9d4d3b9f2242922a4e4bb2": {
          "model_module": "@jupyter-widgets/controls",
          "model_name": "FileUploadModel",
          "state": {
            "_view_name": "FileUploadView",
            "_counter": 1,
            "style": "IPY_MODEL_17dc20c1f6e748afa455bf895e00065e",
            "_dom_classes": [],
            "description": "Upload",
            "multiple": false,
            "_model_name": "FileUploadModel",
            "data": [
              null
            ],
            "button_style": "",
            "_view_module": "@jupyter-widgets/controls",
            "_model_module_version": "1.5.0",
            "accept": "",
            "_view_count": null,
            "disabled": false,
            "_view_module_version": "1.5.0",
            "error": "",
            "description_tooltip": null,
            "metadata": [
              {
                "name": "grizzly.jpg",
                "type": "image/jpeg",
                "size": 502355,
                "lastModified": 1625891814482
              }
            ],
            "_model_module": "@jupyter-widgets/controls",
            "layout": "IPY_MODEL_333e0a6c28424b7bb9999c74790c8476",
            "icon": "upload"
          }
        },
        "17dc20c1f6e748afa455bf895e00065e": {
          "model_module": "@jupyter-widgets/controls",
          "model_name": "ButtonStyleModel",
          "state": {
            "_view_name": "StyleView",
            "_model_name": "ButtonStyleModel",
            "_view_module": "@jupyter-widgets/base",
            "_model_module_version": "1.5.0",
            "_view_count": null,
            "button_color": null,
            "font_weight": "",
            "_view_module_version": "1.2.0",
            "_model_module": "@jupyter-widgets/controls"
          }
        },
        "333e0a6c28424b7bb9999c74790c8476": {
          "model_module": "@jupyter-widgets/base",
          "model_name": "LayoutModel",
          "state": {
            "_view_name": "LayoutView",
            "grid_template_rows": null,
            "right": null,
            "justify_content": null,
            "_view_module": "@jupyter-widgets/base",
            "overflow": null,
            "_model_module_version": "1.2.0",
            "_view_count": null,
            "flex_flow": null,
            "width": null,
            "min_width": null,
            "border": null,
            "align_items": null,
            "bottom": null,
            "_model_module": "@jupyter-widgets/base",
            "top": null,
            "grid_column": null,
            "overflow_y": null,
            "overflow_x": null,
            "grid_auto_flow": null,
            "grid_area": null,
            "grid_template_columns": null,
            "flex": null,
            "_model_name": "LayoutModel",
            "justify_items": null,
            "grid_row": null,
            "max_height": null,
            "align_content": null,
            "visibility": null,
            "align_self": null,
            "height": null,
            "min_height": null,
            "padding": null,
            "grid_auto_rows": null,
            "grid_gap": null,
            "max_width": null,
            "order": null,
            "_view_module_version": "1.2.0",
            "grid_template_areas": null,
            "object_position": null,
            "object_fit": null,
            "grid_auto_columns": null,
            "margin": null,
            "display": null,
            "left": null
          }
        },
        "a4dec29c67544c2e866e9b1269654905": {
          "model_module": "@jupyter-widgets/output",
          "model_name": "OutputModel",
          "state": {
            "_view_name": "OutputView",
            "msg_id": "",
            "_dom_classes": [],
            "_model_name": "OutputModel",
            "outputs": [
              {
                "output_type": "display_data",
                "metadata": {
                  "tags": []
                },
                "image/png": "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\n",
                "text/plain": "<PIL.Image.Image image mode=RGB size=128x72 at 0x7FA3218F9CD0>"
              }
            ],
            "_view_module": "@jupyter-widgets/output",
            "_model_module_version": "1.0.0",
            "_view_count": null,
            "_view_module_version": "1.0.0",
            "layout": "IPY_MODEL_160a7d0e9dcb4f0ab04b5b5dab3375af",
            "_model_module": "@jupyter-widgets/output"
          }
        },
        "160a7d0e9dcb4f0ab04b5b5dab3375af": {
          "model_module": "@jupyter-widgets/base",
          "model_name": "LayoutModel",
          "state": {
            "_view_name": "LayoutView",
            "grid_template_rows": null,
            "right": null,
            "justify_content": null,
            "_view_module": "@jupyter-widgets/base",
            "overflow": null,
            "_model_module_version": "1.2.0",
            "_view_count": null,
            "flex_flow": null,
            "width": null,
            "min_width": null,
            "border": null,
            "align_items": null,
            "bottom": null,
            "_model_module": "@jupyter-widgets/base",
            "top": null,
            "grid_column": null,
            "overflow_y": null,
            "overflow_x": null,
            "grid_auto_flow": null,
            "grid_area": null,
            "grid_template_columns": null,
            "flex": null,
            "_model_name": "LayoutModel",
            "justify_items": null,
            "grid_row": null,
            "max_height": null,
            "align_content": null,
            "visibility": null,
            "align_self": null,
            "height": null,
            "min_height": null,
            "padding": null,
            "grid_auto_rows": null,
            "grid_gap": null,
            "max_width": null,
            "order": null,
            "_view_module_version": "1.2.0",
            "grid_template_areas": null,
            "object_position": null,
            "object_fit": null,
            "grid_auto_columns": null,
            "margin": null,
            "display": null,
            "left": null
          }
        }
      }
    }
  },
  "cells": [
    {
      "cell_type": "markdown",
      "metadata": {
        "id": "view-in-github",
        "colab_type": "text"
      },
      "source": [
        "<a href=\"https://colab.research.google.com/github/moro23/HelloToast/blob/master/bear_classifier_app.ipynb\" target=\"_parent\"><img src=\"https://colab.research.google.com/assets/colab-badge.svg\" alt=\"Open In Colab\"/></a>"
      ]
    },
    {
      "cell_type": "code",
      "metadata": {
        "colab": {
          "base_uri": "https://localhost:8080/"
        },
        "id": "v9UspA5g1-a2",
        "outputId": "860845f3-f10c-4563-a184-8efdd413d2b9"
      },
      "source": [
        "#importing libraries\n",
        "!pip install -Uqq fastbook\n",
        "import fastbook\n",
        "fastbook.setup_book()"
      ],
      "execution_count": 1,
      "outputs": [
        {
          "output_type": "stream",
          "text": [
            "\u001b[K     |████████████████████████████████| 727kB 7.5MB/s \n",
            "\u001b[K     |████████████████████████████████| 51kB 8.1MB/s \n",
            "\u001b[K     |████████████████████████████████| 1.2MB 36.5MB/s \n",
            "\u001b[K     |████████████████████████████████| 194kB 42.4MB/s \n",
            "\u001b[K     |████████████████████████████████| 61kB 9.2MB/s \n",
            "\u001b[K     |████████████████████████████████| 61kB 9.4MB/s \n",
            "\u001b[?25hMounted at /content/gdrive\n"
          ],
          "name": "stdout"
        }
      ]
    },
    {
      "cell_type": "code",
      "metadata": {
        "id": "Jlvxg-YN3OEk"
      },
      "source": [
        "from fastai.collab import * \n",
        "from fastbook import *\n",
        "import os\n",
        "from fastai.vision.widgets import *"
      ],
      "execution_count": 2,
      "outputs": []
    },
    {
      "cell_type": "code",
      "metadata": {
        "colab": {
          "base_uri": "https://localhost:8080/",
          "height": 49,
          "referenced_widgets": [
            "15f8e2d9dd9d4d3b9f2242922a4e4bb2",
            "17dc20c1f6e748afa455bf895e00065e",
            "333e0a6c28424b7bb9999c74790c8476"
          ]
        },
        "id": "Crvi68AK3OJh",
        "outputId": "0c960de0-b857-4964-e4b6-d2080666bd80"
      },
      "source": [
        "##creating a web app out of our jupyter notebook\n",
        "btn_upload = widgets.FileUpload()\n",
        "btn_upload"
      ],
      "execution_count": 3,
      "outputs": [
        {
          "output_type": "display_data",
          "data": {
            "application/vnd.jupyter.widget-view+json": {
              "model_id": "15f8e2d9dd9d4d3b9f2242922a4e4bb2",
              "version_minor": 0,
              "version_major": 2
            },
            "text/plain": [
              "FileUpload(value={}, description='Upload')"
            ]
          },
          "metadata": {
            "tags": []
          }
        }
      ]
    },
    {
      "cell_type": "code",
      "metadata": {
        "id": "0cyC_Nbh3OMu"
      },
      "source": [
        "img = PILImage.create(btn_upload.data[-1])"
      ],
      "execution_count": 5,
      "outputs": []
    },
    {
      "cell_type": "code",
      "metadata": {
        "colab": {
          "base_uri": "https://localhost:8080/",
          "height": 89,
          "referenced_widgets": [
            "a4dec29c67544c2e866e9b1269654905",
            "160a7d0e9dcb4f0ab04b5b5dab3375af"
          ]
        },
        "id": "k43HYgm93OQB",
        "outputId": "8ecfbc7c-6433-4c2b-9fe0-5aa4a5efdd89"
      },
      "source": [
        "display_img = widgets.Output()\n",
        "display_img.clear_output()\n",
        "with display_img: \n",
        "  display(img.to_thumb(128,128))\n",
        "display_img "
      ],
      "execution_count": 6,
      "outputs": [
        {
          "output_type": "display_data",
          "data": {
            "application/vnd.jupyter.widget-view+json": {
              "model_id": "a4dec29c67544c2e866e9b1269654905",
              "version_minor": 0,
              "version_major": 2
            },
            "text/plain": [
              "Output()"
            ]
          },
          "metadata": {
            "tags": []
          }
        }
      ]
    },
    {
      "cell_type": "code",
      "metadata": {
        "id": "FcgLle2T3OWv"
      },
      "source": [
        "pred, pred_idx, probs = learn_inf.predict(img)"
      ],
      "execution_count": null,
      "outputs": []
    },
    {
      "cell_type": "code",
      "metadata": {
        "id": "Vr9KWxkZ3OaJ"
      },
      "source": [
        "lbl_pred = widgets.Label()\n",
        "lbl_pred.value = f'Prediction: {pred}; Probability: {probs[pred_idx]:.04f}'\n",
        "lbl_pred"
      ],
      "execution_count": null,
      "outputs": []
    },
    {
      "cell_type": "code",
      "metadata": {
        "id": "ygNrQGpb3Od6"
      },
      "source": [
        "btn_run = widgets.Button(description='Classify')\n",
        "btn_run"
      ],
      "execution_count": null,
      "outputs": []
    },
    {
      "cell_type": "code",
      "metadata": {
        "colab": {
          "base_uri": "https://localhost:8080/"
        },
        "id": "10P4P55W4xJl",
        "outputId": "fd9ad53c-c33b-4599-8892-0dc7e8050ffc"
      },
      "source": [
        "!pip install voila\n",
        "!jupyter serverextension enable voila --sys-prefix "
      ],
      "execution_count": 1,
      "outputs": [
        {
          "output_type": "stream",
          "text": [
            "Requirement already satisfied: voila in /usr/local/lib/python3.7/dist-packages (0.2.10)\n",
            "Requirement already satisfied: jupyter-client<7,>=6.1.3 in /usr/local/lib/python3.7/dist-packages (from voila) (6.1.12)\n",
            "Requirement already satisfied: nbconvert<7,>=6.0.0 in /usr/local/lib/python3.7/dist-packages (from voila) (6.1.0)\n",
            "Requirement already satisfied: jupyter-server<2.0.0,>=0.3.0 in /usr/local/lib/python3.7/dist-packages (from voila) (1.9.0)\n",
            "Requirement already satisfied: nbclient<0.6,>=0.4.0 in /usr/local/lib/python3.7/dist-packages (from voila) (0.5.3)\n",
            "Requirement already satisfied: pyzmq>=13 in /usr/local/lib/python3.7/dist-packages (from jupyter-client<7,>=6.1.3->voila) (22.1.0)\n",
            "Requirement already satisfied: tornado>=4.1 in /usr/local/lib/python3.7/dist-packages (from jupyter-client<7,>=6.1.3->voila) (5.1.1)\n",
            "Requirement already satisfied: jupyter-core>=4.6.0 in /usr/local/lib/python3.7/dist-packages (from jupyter-client<7,>=6.1.3->voila) (4.7.1)\n",
            "Requirement already satisfied: traitlets in /usr/local/lib/python3.7/dist-packages (from jupyter-client<7,>=6.1.3->voila) (5.0.5)\n",
            "Requirement already satisfied: python-dateutil>=2.1 in /usr/local/lib/python3.7/dist-packages (from jupyter-client<7,>=6.1.3->voila) (2.8.1)\n",
            "Requirement already satisfied: pandocfilters>=1.4.1 in /usr/local/lib/python3.7/dist-packages (from nbconvert<7,>=6.0.0->voila) (1.4.3)\n",
            "Requirement already satisfied: jupyterlab-pygments in /usr/local/lib/python3.7/dist-packages (from nbconvert<7,>=6.0.0->voila) (0.1.2)\n",
            "Requirement already satisfied: bleach in /usr/local/lib/python3.7/dist-packages (from nbconvert<7,>=6.0.0->voila) (3.3.0)\n",
            "Requirement already satisfied: mistune<2,>=0.8.1 in /usr/local/lib/python3.7/dist-packages (from nbconvert<7,>=6.0.0->voila) (0.8.4)\n",
            "Requirement already satisfied: testpath in /usr/local/lib/python3.7/dist-packages (from nbconvert<7,>=6.0.0->voila) (0.5.0)\n",
            "Requirement already satisfied: entrypoints>=0.2.2 in /usr/local/lib/python3.7/dist-packages (from nbconvert<7,>=6.0.0->voila) (0.3)\n",
            "Requirement already satisfied: pygments>=2.4.1 in /usr/local/lib/python3.7/dist-packages (from nbconvert<7,>=6.0.0->voila) (2.6.1)\n",
            "Requirement already satisfied: jinja2>=2.4 in /usr/local/lib/python3.7/dist-packages (from nbconvert<7,>=6.0.0->voila) (2.11.3)\n",
            "Requirement already satisfied: nbformat>=4.4 in /usr/local/lib/python3.7/dist-packages (from nbconvert<7,>=6.0.0->voila) (5.1.3)\n",
            "Requirement already satisfied: defusedxml in /usr/local/lib/python3.7/dist-packages (from nbconvert<7,>=6.0.0->voila) (0.7.1)\n",
            "Requirement already satisfied: argon2-cffi in /usr/local/lib/python3.7/dist-packages (from jupyter-server<2.0.0,>=0.3.0->voila) (20.1.0)\n",
            "Requirement already satisfied: Send2Trash in /usr/local/lib/python3.7/dist-packages (from jupyter-server<2.0.0,>=0.3.0->voila) (1.7.1)\n",
            "Requirement already satisfied: prometheus-client in /usr/local/lib/python3.7/dist-packages (from jupyter-server<2.0.0,>=0.3.0->voila) (0.11.0)\n",
            "Requirement already satisfied: websocket-client in /usr/local/lib/python3.7/dist-packages (from jupyter-server<2.0.0,>=0.3.0->voila) (1.1.0)\n",
            "Requirement already satisfied: requests-unixsocket in /usr/local/lib/python3.7/dist-packages (from jupyter-server<2.0.0,>=0.3.0->voila) (0.2.0)\n",
            "Requirement already satisfied: terminado>=0.8.3 in /usr/local/lib/python3.7/dist-packages (from jupyter-server<2.0.0,>=0.3.0->voila) (0.10.1)\n",
            "Requirement already satisfied: ipython-genutils in /usr/local/lib/python3.7/dist-packages (from jupyter-server<2.0.0,>=0.3.0->voila) (0.2.0)\n",
            "Requirement already satisfied: anyio<4,>=3.1.0 in /usr/local/lib/python3.7/dist-packages (from jupyter-server<2.0.0,>=0.3.0->voila) (3.2.1)\n",
            "Requirement already satisfied: nest-asyncio in /usr/local/lib/python3.7/dist-packages (from nbclient<0.6,>=0.4.0->voila) (1.5.1)\n",
            "Requirement already satisfied: async-generator in /usr/local/lib/python3.7/dist-packages (from nbclient<0.6,>=0.4.0->voila) (1.10)\n",
            "Requirement already satisfied: six>=1.5 in /usr/local/lib/python3.7/dist-packages (from python-dateutil>=2.1->jupyter-client<7,>=6.1.3->voila) (1.15.0)\n",
            "Requirement already satisfied: webencodings in /usr/local/lib/python3.7/dist-packages (from bleach->nbconvert<7,>=6.0.0->voila) (0.5.1)\n",
            "Requirement already satisfied: packaging in /usr/local/lib/python3.7/dist-packages (from bleach->nbconvert<7,>=6.0.0->voila) (20.9)\n",
            "Requirement already satisfied: MarkupSafe>=0.23 in /usr/local/lib/python3.7/dist-packages (from jinja2>=2.4->nbconvert<7,>=6.0.0->voila) (2.0.1)\n",
            "Requirement already satisfied: jsonschema!=2.5.0,>=2.4 in /usr/local/lib/python3.7/dist-packages (from nbformat>=4.4->nbconvert<7,>=6.0.0->voila) (2.6.0)\n",
            "Requirement already satisfied: cffi>=1.0.0 in /usr/local/lib/python3.7/dist-packages (from argon2-cffi->jupyter-server<2.0.0,>=0.3.0->voila) (1.14.5)\n",
            "Requirement already satisfied: urllib3>=1.8 in /usr/local/lib/python3.7/dist-packages (from requests-unixsocket->jupyter-server<2.0.0,>=0.3.0->voila) (1.24.3)\n",
            "Requirement already satisfied: requests>=1.1 in /usr/local/lib/python3.7/dist-packages (from requests-unixsocket->jupyter-server<2.0.0,>=0.3.0->voila) (2.23.0)\n",
            "Requirement already satisfied: ptyprocess; os_name != \"nt\" in /usr/local/lib/python3.7/dist-packages (from terminado>=0.8.3->jupyter-server<2.0.0,>=0.3.0->voila) (0.7.0)\n",
            "Requirement already satisfied: typing-extensions; python_version < \"3.8\" in /usr/local/lib/python3.7/dist-packages (from anyio<4,>=3.1.0->jupyter-server<2.0.0,>=0.3.0->voila) (3.7.4.3)\n",
            "Requirement already satisfied: sniffio>=1.1 in /usr/local/lib/python3.7/dist-packages (from anyio<4,>=3.1.0->jupyter-server<2.0.0,>=0.3.0->voila) (1.2.0)\n",
            "Requirement already satisfied: idna>=2.8 in /usr/local/lib/python3.7/dist-packages (from anyio<4,>=3.1.0->jupyter-server<2.0.0,>=0.3.0->voila) (2.10)\n",
            "Requirement already satisfied: pyparsing>=2.0.2 in /usr/local/lib/python3.7/dist-packages (from packaging->bleach->nbconvert<7,>=6.0.0->voila) (2.4.7)\n",
            "Requirement already satisfied: pycparser in /usr/local/lib/python3.7/dist-packages (from cffi>=1.0.0->argon2-cffi->jupyter-server<2.0.0,>=0.3.0->voila) (2.20)\n",
            "Requirement already satisfied: certifi>=2017.4.17 in /usr/local/lib/python3.7/dist-packages (from requests>=1.1->requests-unixsocket->jupyter-server<2.0.0,>=0.3.0->voila) (2021.5.30)\n",
            "Requirement already satisfied: chardet<4,>=3.0.2 in /usr/local/lib/python3.7/dist-packages (from requests>=1.1->requests-unixsocket->jupyter-server<2.0.0,>=0.3.0->voila) (3.0.4)\n",
            "Enabling: voila\n",
            "- Writing config: /usr/etc/jupyter\n",
            "    - Validating...\n",
            "Error loading server extension voila\n",
            "     \u001b[31m X\u001b[0m is voila importable?\n"
          ],
          "name": "stdout"
        }
      ]
    },
    {
      "cell_type": "code",
      "metadata": {
        "id": "0uhwmD3w4xN0"
      },
      "source": [
        ""
      ],
      "execution_count": null,
      "outputs": []
    },
    {
      "cell_type": "code",
      "metadata": {
        "id": "d6oCnC7Q4xSQ"
      },
      "source": [
        ""
      ],
      "execution_count": null,
      "outputs": []
    },
    {
      "cell_type": "code",
      "metadata": {
        "id": "_FMUBYEm4xVh"
      },
      "source": [
        ""
      ],
      "execution_count": null,
      "outputs": []
    },
    {
      "cell_type": "code",
      "metadata": {
        "id": "qEAMuUsi4xYF"
      },
      "source": [
        ""
      ],
      "execution_count": null,
      "outputs": []
    }
  ]
}